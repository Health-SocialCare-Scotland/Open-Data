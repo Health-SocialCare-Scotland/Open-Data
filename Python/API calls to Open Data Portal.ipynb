{
 "cells": [
  {
   "cell_type": "markdown",
   "metadata": {},
   "source": [
    "### Querying data from NHS Scotland Open Data portal using Python"
   ]
  },
  {
   "cell_type": "markdown",
   "metadata": {},
   "source": [
    "This notebook walks through an example task that involves querying multiple datasets (or resources) and linking them with reference datasets.\n",
    "\n",
    "If you're planning to use it on NSS internal network, you must launch Jupyter lab from the command line (not Power Shell) and set NSS proxies to make sure outgoing connections go through the firewall. If you're unsure how to do this or have any other questions, don't hesitate to email NSS Python Usergroup inbox <nss.pythonusergroupinbox@nhs.net>."
   ]
  },
  {
   "cell_type": "code",
   "execution_count": 1,
   "metadata": {},
   "outputs": [],
   "source": [
    "import requests\n",
    "import pandas as pd #check your Pandas version; this notebook was written using 0.25.1"
   ]
  },
  {
   "cell_type": "markdown",
   "metadata": {},
   "source": [
    "#### This tutorial uses SQL to query resources and do basic analysis prior to downloading the data"
   ]
  },
  {
   "cell_type": "code",
   "execution_count": 2,
   "metadata": {},
   "outputs": [],
   "source": [
    "#Open Data base URL\n",
    "url = r\"https://www.opendata.nhs.scot/api/3/action/datastore_search_sql?sql=\""
   ]
  },
  {
   "cell_type": "markdown",
   "metadata": {},
   "source": [
    "### HB Lookup"
   ]
  },
  {
   "cell_type": "code",
   "execution_count": 3,
   "metadata": {},
   "outputs": [],
   "source": [
    "resource_id = \"652ff726-e676-4a20-abda-435b98dd7bdc\""
   ]
  },
  {
   "cell_type": "code",
   "execution_count": 4,
   "metadata": {},
   "outputs": [],
   "source": [
    "#column and table names (saved in the resource_id variable) must be put in extra quotes\n",
    "sql = f'SELECT \"HB2014\", \"HB2014Name\" FROM \"{resource_id}\"'"
   ]
  },
  {
   "cell_type": "code",
   "execution_count": 5,
   "metadata": {},
   "outputs": [],
   "source": [
    "final_url = url + sql"
   ]
  },
  {
   "cell_type": "markdown",
   "metadata": {},
   "source": [
    "The \"success\" response code is `200`. You might also get a `timeout` error, meaning there is a problem with your connection, most likely to do with proxies, or a `409` code, meaning you sql code isn't valid."
   ]
  },
  {
   "cell_type": "code",
   "execution_count": 6,
   "metadata": {},
   "outputs": [],
   "source": [
    "response = requests.get(final_url)"
   ]
  },
  {
   "cell_type": "code",
   "execution_count": 7,
   "metadata": {},
   "outputs": [],
   "source": [
    "hb_lookup = pd.DataFrame(response.json()['result']['records'])"
   ]
  },
  {
   "cell_type": "markdown",
   "metadata": {},
   "source": [
    "### GP Practice Lookup"
   ]
  },
  {
   "cell_type": "code",
   "execution_count": 8,
   "metadata": {},
   "outputs": [],
   "source": [
    "resource_id = \"c01dc5f3-86ea-4a3d-8e0c-1d29f04a85d7\""
   ]
  },
  {
   "cell_type": "code",
   "execution_count": 9,
   "metadata": {},
   "outputs": [],
   "source": [
    "sql = f'SELECT \"PracticeCode\", \"GPPracticeName\", \"NHSBoard\" FROM \"{resource_id}\"'"
   ]
  },
  {
   "cell_type": "code",
   "execution_count": 10,
   "metadata": {},
   "outputs": [],
   "source": [
    "final_url = url + sql\n",
    "response = requests.get(final_url)"
   ]
  },
  {
   "cell_type": "code",
   "execution_count": 11,
   "metadata": {},
   "outputs": [],
   "source": [
    "gp_lookup = pd.DataFrame(response.json()['result']['records'])"
   ]
  },
  {
   "cell_type": "code",
   "execution_count": 12,
   "metadata": {},
   "outputs": [],
   "source": [
    "#pick 10 GP practices per board and format for SQL IN filter\n",
    "gp_filter = ','.join(gp_lookup.groupby('NHSBoard')['NHSBoard', 'PracticeCode'].head(10).PracticeCode.values)"
   ]
  },
  {
   "cell_type": "markdown",
   "metadata": {},
   "source": [
    "### Put together monthly Prescribing data"
   ]
  },
  {
   "cell_type": "code",
   "execution_count": 13,
   "metadata": {},
   "outputs": [],
   "source": [
    "resources = [\n",
    "    \"5c667230-4201-4a09-949d-3e6cc3a4ec19\", #August\n",
    "    \"6e3856e9-88cb-495a-8c8a-54b0460df950\", #July\n",
    "    \"6ea2f299-76bc-49cd-ab43-9228b601da5f\", #June\n",
    "    \"7479536b-0b95-43d6-9152-31bbd522e6b4\", #May\n",
    "    \"02197246-5d98-4ba9-b25d-218ac9cd91e6\"  #April\n",
    "]"
   ]
  },
  {
   "cell_type": "code",
   "execution_count": 14,
   "metadata": {},
   "outputs": [],
   "source": [
    "dfs = []\n",
    "\n",
    "for resource in resources:\n",
    "    sql = f\"\"\"\n",
    "SELECT \"HBT2014\", \"GPPractice\", \"BNFItemCode\", \"BNFItemDescription\", \"NumberOfPaidItems\", \"PaidDateMonth\", \"PaidQuantity\"\n",
    "FROM \"{resource}\"\n",
    "WHERE \"GPPractice\" IN ({gp_filter})\n",
    "AND \"BNFItemCode\" NOT LIKE ' '\n",
    "AND (\"BNFItemCode\" IN (\n",
    "    SELECT \"BNFItemCode\"\n",
    "    FROM \"{resource}\"\n",
    "    WHERE \"GPPractice\" IN ({gp_filter})\n",
    "    GROUP BY \"BNFItemCode\"\n",
    "    ORDER BY SUM(\"GrossIngredientCost\")  DESC, \"BNFItemCode\"\n",
    "    LIMIT 5)\n",
    "    OR\n",
    "    \"BNFItemCode\" IN (\n",
    "    SELECT \"BNFItemCode\"\n",
    "    FROM \"{resource}\"\n",
    "    WHERE \"GPPractice\" IN ({gp_filter})\n",
    "    GROUP BY \"BNFItemCode\"\n",
    "    ORDER BY SUM(\"GrossIngredientCost\")  ASC, \"BNFItemCode\"\n",
    "    LIMIT 5)   \n",
    "    )\n",
    "\"\"\"\n",
    "    final_url = url + sql\n",
    "    response = requests.get(final_url)\n",
    "    temp_df = pd.DataFrame(response.json()['result']['records'])\n",
    "    temp_df.PaidDateMonth = pd.to_datetime(temp_df.PaidDateMonth, format=\"%Y%m\")\n",
    "    temp_df.NumberOfPaidItems = temp_df.NumberOfPaidItems.astype(float)\n",
    "    temp_df.PaidQuantity = temp_df.PaidQuantity.astype(float)\n",
    "    \n",
    "    dfs.append(temp_df)"
   ]
  },
  {
   "cell_type": "code",
   "execution_count": 15,
   "metadata": {},
   "outputs": [],
   "source": [
    "final_coded = pd.concat(dfs)"
   ]
  },
  {
   "cell_type": "markdown",
   "metadata": {},
   "source": [
    "### Link the HB and GP Practice Code with Names"
   ]
  },
  {
   "cell_type": "code",
   "execution_count": 16,
   "metadata": {},
   "outputs": [],
   "source": [
    "hb_linked = pd.merge(final_coded, hb_lookup, how='left', left_on='HBT2014', right_on='HB2014')\n",
    "final = pd.merge(hb_linked, gp_lookup, how='left', left_on='GPPractice', right_on='PracticeCode')\n",
    "final.drop(columns=['HB2014', 'HBT2014', 'GPPractice', 'PracticeCode', 'NHSBoard'], inplace=True)"
   ]
  },
  {
   "cell_type": "code",
   "execution_count": 17,
   "metadata": {},
   "outputs": [],
   "source": [
    "#re-order columns\n",
    "final = final[['PaidDateMonth', 'HB2014Name','GPPracticeName', 'BNFItemCode','BNFItemDescription', 'NumberOfPaidItems', 'PaidQuantity']]"
   ]
  },
  {
   "cell_type": "code",
   "execution_count": 18,
   "metadata": {},
   "outputs": [
    {
     "data": {
      "text/html": [
       "<div>\n",
       "<style scoped>\n",
       "    .dataframe tbody tr th:only-of-type {\n",
       "        vertical-align: middle;\n",
       "    }\n",
       "\n",
       "    .dataframe tbody tr th {\n",
       "        vertical-align: top;\n",
       "    }\n",
       "\n",
       "    .dataframe thead th {\n",
       "        text-align: right;\n",
       "    }\n",
       "</style>\n",
       "<table border=\"1\" class=\"dataframe\">\n",
       "  <thead>\n",
       "    <tr style=\"text-align: right;\">\n",
       "      <th></th>\n",
       "      <th>PaidDateMonth</th>\n",
       "      <th>HB2014Name</th>\n",
       "      <th>GPPracticeName</th>\n",
       "      <th>BNFItemCode</th>\n",
       "      <th>BNFItemDescription</th>\n",
       "      <th>NumberOfPaidItems</th>\n",
       "      <th>PaidQuantity</th>\n",
       "    </tr>\n",
       "  </thead>\n",
       "  <tbody>\n",
       "    <tr>\n",
       "      <td>0</td>\n",
       "      <td>2019-08-01</td>\n",
       "      <td>NHS Tayside</td>\n",
       "      <td>MUIRHEAD MEDICAL CENTRE</td>\n",
       "      <td>21480000100</td>\n",
       "      <td>FREESTYLE LIBRE SENSOR KIT</td>\n",
       "      <td>14.0</td>\n",
       "      <td>36.0</td>\n",
       "    </tr>\n",
       "    <tr>\n",
       "      <td>1</td>\n",
       "      <td>2019-08-01</td>\n",
       "      <td>NHS Tayside</td>\n",
       "      <td>THE BLUE PRACTICE</td>\n",
       "      <td>0208020Y0BBACAC</td>\n",
       "      <td>XARELTO_TAB 20MG</td>\n",
       "      <td>12.0</td>\n",
       "      <td>532.0</td>\n",
       "    </tr>\n",
       "    <tr>\n",
       "      <td>2</td>\n",
       "      <td>2019-08-01</td>\n",
       "      <td>NHS Tayside</td>\n",
       "      <td>THE BLUE PRACTICE</td>\n",
       "      <td>0208020Z0BBABAB</td>\n",
       "      <td>ELIQUIS_TAB 5MG</td>\n",
       "      <td>12.0</td>\n",
       "      <td>1008.0</td>\n",
       "    </tr>\n",
       "    <tr>\n",
       "      <td>3</td>\n",
       "      <td>2019-08-01</td>\n",
       "      <td>NHS Tayside</td>\n",
       "      <td>THE BLUE PRACTICE</td>\n",
       "      <td>0302000C0BQAABX</td>\n",
       "      <td>FOSTAIR_INH 100MCG/6MCG (120D) CFF</td>\n",
       "      <td>63.0</td>\n",
       "      <td>81.0</td>\n",
       "    </tr>\n",
       "    <tr>\n",
       "      <td>4</td>\n",
       "      <td>2019-08-01</td>\n",
       "      <td>NHS Tayside</td>\n",
       "      <td>THE BLUE PRACTICE</td>\n",
       "      <td>21480000100</td>\n",
       "      <td>FREESTYLE LIBRE SENSOR KIT</td>\n",
       "      <td>10.0</td>\n",
       "      <td>34.0</td>\n",
       "    </tr>\n",
       "  </tbody>\n",
       "</table>\n",
       "</div>"
      ],
      "text/plain": [
       "  PaidDateMonth   HB2014Name           GPPracticeName      BNFItemCode  \\\n",
       "0    2019-08-01  NHS Tayside  MUIRHEAD MEDICAL CENTRE      21480000100   \n",
       "1    2019-08-01  NHS Tayside        THE BLUE PRACTICE  0208020Y0BBACAC   \n",
       "2    2019-08-01  NHS Tayside        THE BLUE PRACTICE  0208020Z0BBABAB   \n",
       "3    2019-08-01  NHS Tayside        THE BLUE PRACTICE  0302000C0BQAABX   \n",
       "4    2019-08-01  NHS Tayside        THE BLUE PRACTICE      21480000100   \n",
       "\n",
       "                   BNFItemDescription  NumberOfPaidItems  PaidQuantity  \n",
       "0          FREESTYLE LIBRE SENSOR KIT               14.0          36.0  \n",
       "1                    XARELTO_TAB 20MG               12.0         532.0  \n",
       "2                     ELIQUIS_TAB 5MG               12.0        1008.0  \n",
       "3  FOSTAIR_INH 100MCG/6MCG (120D) CFF               63.0          81.0  \n",
       "4          FREESTYLE LIBRE SENSOR KIT               10.0          34.0  "
      ]
     },
     "execution_count": 18,
     "metadata": {},
     "output_type": "execute_result"
    }
   ],
   "source": [
    "#preview the data\n",
    "final.head()"
   ]
  },
  {
   "cell_type": "code",
   "execution_count": 19,
   "metadata": {},
   "outputs": [],
   "source": [
    "#export to current directory\n",
    "final.to_csv('prescribing.csv', index=False)"
   ]
  }
 ],
 "metadata": {
  "kernelspec": {
   "display_name": "Data Analysis [conda env:data]",
   "language": "python",
   "name": "conda-env-data-data"
  },
  "language_info": {
   "codemirror_mode": {
    "name": "ipython",
    "version": 3
   },
   "file_extension": ".py",
   "mimetype": "text/x-python",
   "name": "python",
   "nbconvert_exporter": "python",
   "pygments_lexer": "ipython3",
   "version": "3.7.4"
  }
 },
 "nbformat": 4,
 "nbformat_minor": 4
}
